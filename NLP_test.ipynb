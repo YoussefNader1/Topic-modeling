{
 "cells": [
  {
   "cell_type": "code",
   "execution_count": null,
   "id": "ee9cc736",
   "metadata": {},
   "outputs": [],
   "source": [
    "pip install nltk"
   ]
  },
  {
   "cell_type": "code",
   "execution_count": 43,
   "id": "de8a4de1",
   "metadata": {},
   "outputs": [],
   "source": [
    "import pandas as pd\n",
    "\n",
    "data = pd.read_csv(\"articles1.csv\")"
   ]
  },
  {
   "cell_type": "code",
   "execution_count": 53,
   "id": "f7c56dfd",
   "metadata": {},
   "outputs": [
    {
     "data": {
      "text/plain": [
       "0    House Republicans Fret About Winning Their Hea...\n",
       "1    Rift Between Officers and Residents as Killing...\n",
       "2    Tyrus Wong, ‘Bambi’ Artist Thwarted by Racial ...\n",
       "3    Among Deaths in 2016, a Heavy Toll in Pop Musi...\n",
       "4    Kim Jong-un Says North Korea Is Preparing to T...\n",
       "Name: title, dtype: object"
      ]
     },
     "execution_count": 53,
     "metadata": {},
     "output_type": "execute_result"
    }
   ],
   "source": [
    "content = data['content']\n",
    "title = data['title']\n",
    "content.head()\n",
    "title.head()"
   ]
  },
  {
   "cell_type": "code",
   "execution_count": 45,
   "id": "e8f52c2d",
   "metadata": {
    "scrolled": true
   },
   "outputs": [
    {
     "name": "stderr",
     "output_type": "stream",
     "text": [
      "[nltk_data] Downloading package punkt to\n",
      "[nltk_data]     C:\\Users\\yn653\\AppData\\Roaming\\nltk_data...\n",
      "[nltk_data]   Package punkt is already up-to-date!\n",
      "[nltk_data] Downloading package stopwords to\n",
      "[nltk_data]     C:\\Users\\yn653\\AppData\\Roaming\\nltk_data...\n",
      "[nltk_data]   Package stopwords is already up-to-date!\n"
     ]
    },
    {
     "data": {
      "text/plain": [
       "True"
      ]
     },
     "execution_count": 45,
     "metadata": {},
     "output_type": "execute_result"
    }
   ],
   "source": [
    "import nltk\n",
    "from nltk.tokenize import sent_tokenize, word_tokenize\n",
    "from nltk.corpus import stopwords # Text data\n",
    "from nltk.tokenize import word_tokenize\n",
    "nltk.download('punkt')\n",
    "nltk.download(\"stopwords\")\n",
    "\n"
   ]
  },
  {
   "cell_type": "code",
   "execution_count": 57,
   "id": "b5351c7b",
   "metadata": {},
   "outputs": [],
   "source": [
    "stop_words = set(stopwords.words(\"english\"))"
   ]
  },
  {
   "cell_type": "code",
   "execution_count": 58,
   "id": "5558150d",
   "metadata": {
    "scrolled": false
   },
   "outputs": [],
   "source": [
    "content_list = []\n",
    "for lines in content:\n",
    "    words = word_tokenize(lines)\n",
    "    filtered_list = [\n",
    "    word for word in words if word.casefold() not in stop_words]\n",
    "#     print(len(filtered_list))\n",
    "    lines = ' '.join(filtered_list)\n",
    "    content_list.append(lines)\n",
    "\n",
    "    "
   ]
  },
  {
   "cell_type": "code",
   "execution_count": 59,
   "id": "6fcd5918",
   "metadata": {},
   "outputs": [
    {
     "data": {
      "text/plain": [
       "50000"
      ]
     },
     "execution_count": 59,
     "metadata": {},
     "output_type": "execute_result"
    }
   ],
   "source": [
    "len(content_list)"
   ]
  },
  {
   "cell_type": "code",
   "execution_count": 61,
   "id": "a4c01c7c",
   "metadata": {},
   "outputs": [
    {
     "data": {
      "text/plain": [
       "'Walt Disney ’ “ Bambi ” opened 1942 , critics praised spare , haunting visual style , vastly different anything Disney done . know film ’ striking appearance created Chinese immigrant artist , took inspiration landscape paintings Song dynasty . extent contribution “ Bambi , ” remains mark film animation , would widely known decades . Like film ’ title character , artist , Tyrus Wong , weathered irrevocable separation mother — , hope making life America , incarceration , isolation rigorous interrogation — still child . years followed , endured poverty , discrimination chronic lack recognition , work Disney also fine art , finding acclaim 90s . Mr. Wong died Friday 106 . Hollywood studio artist , painter , printmaker , calligrapher , illustrator , later years , maker fantastical kites , one celebrated artists 20th century . marginalization long subject , passed much career unknown general public . Artistic recognition , Mr. Wong find , noteworthy fact among Chinese immigrant men generation , professional prospects largely limited menial jobs like houseboy laundryman . Trained painter , Mr. Wong leading figure Modernist movement flourished California first second World Wars . 1932 1934 , work included group shows Art Institute Chicago also featured Picasso , Matisse Paul Klee . staff artist Hollywood studios 1930s 1960s , drew storyboards made vibrant paintings , detailed architectural illustrations , helped director envision scene shot . years work informed look animated pictures Disney films Warner Brothers studios , among “ Sands Iwo Jima ” ( 1949 ) “ Rebel Without Cause ” ( 1955 ) “ Wild Bunch ” ( 1969 ) . dozens films worked , “ Bambi ” Mr. Wong — belatedly — renowned . “ truly involved every phase production , ” John Canemaker , animator historian animation New York University , said interview obituary March . “ created art direction really never seen animation . ” 2013 2014 , Mr. Wong subject “ Water Paper , Paint Sky , ” major retrospective Disney Family Museum San Francisco . museum ’ windows , overlook San Francisco Bay , could contemplate Angel Island , nine decades earlier , lone sought gain admission country adamantly want . Wong Gen Yeo ( name sometimes Romanized Wong Gaing Yoo ) born Oct. 25 , 1910 , farming village Guangdong Province . young child , already exhibited love drawing encouraged father . 1920 , seeking better economic prospects , Gen Yeo father embarked United States , leaving mother sister behind . Gen Yeo would never see mother . obliged travel false identities — state affairs known among Chinese immigrants “ paper son ” — hope circumventing Chinese Exclusion Act 1882 . Signed law President Chester A. Arthur , act , drastically curtailed number Chinese people allowed enter country , among earliest United States laws impose severe restrictions immigration . 1906 , unforeseen loophole opened form San Francisco earthquake fire . huge number municipal documents , including birth immigration records , destroyed , many newly arrived Chinese capitalized loss , maintaining born San Francisco fire . United States citizens , entitled bring relatives — , case Gen Yeo father , “ paper sons ” posing relatives . Attuned deception , United States immigration officials put Chinese arrivals formidable inquisition ensure claimed . questions came like gunfire : direction village face ? many windows house ? house rice bin ? wide well ? deep ? trees village ? lakes ? shops name ? sponsoring relative interrogated separately , answers match . new arrival , major mistake , series smaller ones , could mean deportation . stand chance passing , aspirants memorized rigorous dossiers known coaching papers . ensuing interrogation hard enough adults . Gen Yeo would undergo alone . Dec. 30 , 1920 , month sea , Wongs landed Angel Island Immigration Station . elder Mr. Wong traveling merchant named Look Get son Look Tai Yow . “ Angel Island considered Ellis Island West Coast , ” Lisa See , author “ Gold Mountain ” ( 1995 ) nonfiction chronicle family , said interview 2016 . However , continued : “ goal really different Ellis Island , supposed welcoming . Angel Island opened specifically keep Chinese . ” Mr. Wong ’ father previously lived United States Look Get , able clear Immigration quickly . new arrival , Gen Yeo detained island nearly month , child among immigrants held . “ scared half death cried , ” Mr. Wong recalled “ Tyrus , ” documentary directed Pamela Tom , premiered 2015 . “ Every day miserable — miserable . hated place . ” Jan. 27 , 1921 , presence interpreter stenographer , young Gen Yeo , posing Look Tai Yow , interrogated three inspectors . father already questioned . Gen Yeo well prepared answered without error . Sacramento , joined father , schoolteacher Americanized “ Tai Yow ” “ Tyrus , ” known Tyrus Wong ever . Soon afterward , father son separated , elder Mr. Wong moved Los Angeles seek work . reasons lost time , could take son . Tyrus lived Sacramento boardinghouse attending elementary school . Two years later — possibly — Tyrus traveled Los Angeles join father , found work gambling den . lived boardinghouse sandwiched butcher shop brothel . school , Tyrus worked houseboy two Pasadena families , earning 50 cents day . first art teacher father , trained nightly calligraphy dip brush water trace ghostly characters newspaper : could afford ink drawing paper . Tyrus junior high , teacher , noting drawing talent , arranged summer scholarship Otis Art Institute Los Angeles . account indifferent student public school , Tyrus found calling institute , Otis College Art Design . scholarship ended declined return junior high . father scraped together $ 90 tuition — small fortune — let stay Otis ’ youngest student . studied least five years , simultaneously working school janitor , graduating 1930s . long afterward father died , leaving young Mr. Wong entirely . 1936 1938 , Mr. Wong artist Works Progress Administration , creating paintings libraries public spaces . friends , including artist Benji Okubo , founded Oriental Artists ’ Group Los Angeles , organized exhibitions members ’ work — level exposure Asian artists time . Mr. Wong , newly married needing steady work , joined Disney 1938 “ ” creating thousands intermediate drawings bring animated sequences life . Asians novelty Hollywood studios , Mr. Wong made keenly aware fact , first Disney later Warner Brothers . One flung racial epithet . Another assumed sight worked company cafeteria . affront ’ job : Painstaking , repetitive Mr. Wong quickly work animation — “ terrible use talents landscape artist painter , ” Mr. Canemaker said . reprieve came late 1930s , Mr. Wong learned Disney adapting “ Bambi , Life Woods , ” 1923 novel Austrian writer Felix Salten fawn whose mother killed hunter . trying animate book , Disney reached impasse . studio enjoyed great success 1937 animated film “ Snow White Seven Dwarfs , ” baroque production every detail backgrounds — every petal every flower , every leaf every tree — meticulously represented . attempt use similar style “ Bambi , ” found ornate backgrounds camouflaged deer forest creatures narrative centered . Mr. Wong spied chance . “ said , ‘ Gee , outdoor scenery , ’ ” recalled video interview years afterward , adding : “ said , ‘ Gee , ’ landscape painter ! ’ ” Invoking exquisite landscape paintings Song dynasty ( A. D. 960 — 1279 ) rendered watercolors pastels series nature scenes moody , lyrical atmospheric — lush spare — backgrounds subtly suggested stroke two brush . “ Walt Disney went crazy , ” said Mr. Canemaker , wrote Mr. Wong book “ Animation Begins : Art Lives Disney Inspirational Sketch Artists ” ( 1996 ) . “ said , ‘ love indefinite quality , mysterious quality forest . ’ ” Mr. Wong unofficially promoted rank inspirational sketch artist . “ , ” Mr. Canemaker explained . “ designer person went questions color , lay something . even influenced music special effects : look drawings , inspired people . ” Mr. Wong spent two years painting illustrations would inform every aspect “ Bambi . ” Throughout finished film — lent brooding quality stark landscapes misty , desaturated palette figures often seen silhouette — influence unmistakable . 1941 , wake bitter employees ’ strike year , Disney fired Mr. Wong . Though chosen strike — felt studio good , Mr. Canemaker said — let go amid lingering climate resentments . “ Bambi , ” Mr. Wong ’ name appears , quite far credits , mere “ background ” artist . Mr. Wong joined Warner Brothers 1942 , working — lent occasion studios — retirement 1968 . indignities endured confined studios . Trying buy house , wife , former Ruth Kim , told property inquired sold . “ month ’ go back sign still , ” Mr. Wong recalled “ Tyrus . ” Japanese attack Pearl Harbor December 1941 , Mr. Wong , like many took wearing lapel button proclaiming heritage , lest angry American beat street . war permanently dispersed fledgling Oriental Artists ’ Group . Mr. Wong ’ friend Mr. Okubo sent , tens thousands internment camp . “ World War II ’ happened , think artists , even artists , would name today , ” Ms. See said . “ ’ little movement barely started split apart war . ” Mr. Wong , became United States citizen 1946 , also designed Christmas cards Hallmark painted elegant designs dinnerware , sought collectors . longtime resident Sunland , Calif. became , retirement , renowned kitemaker , designing , building hand coloring astonishing , airworthy creations — butterflies , swallows , whole flocks owls , centipedes 100 feet long — streaked Southern California sky like paint blue canvas . last 15 years Ruth Wong ’ life , ill dementia , Mr. Wong forsook work care . death 1995 , slowly began making art . 2001 , formal recognition influence “ Bambi , ” Mr. Wong named Disney Legend . honor — whose previous recipients include Fred MacMurray , Julie Andrews Annette Funicello — bestowed Walt Disney Company outstanding contributions . 2003 , retrospective work , curated part Ms. See , inaugural exhibition Chinese American Museum Los Angeles . Disney Family Museum ’ retrospective , “ Water Paper , Paint Sky , ” traveled 2015 Museum Chinese America , Lower Manhattan . Mr. Wong ’ death , home Sunland , confirmed filmmaker Ms. Tom . survivors include three daughters , Kay Fong , Wong Kim Wong two grandchildren . daughters small , Mr. Wong encouraged make art , father encouraged . Yet would let coloring books . reason simple : want children constrained , said , lines laid others .'"
      ]
     },
     "execution_count": 61,
     "metadata": {},
     "output_type": "execute_result"
    }
   ],
   "source": [
    "content_list[2]"
   ]
  },
  {
   "cell_type": "code",
   "execution_count": null,
   "id": "7b02e451",
   "metadata": {},
   "outputs": [],
   "source": []
  },
  {
   "cell_type": "code",
   "execution_count": null,
   "id": "db84343b",
   "metadata": {},
   "outputs": [],
   "source": []
  }
 ],
 "metadata": {
  "kernelspec": {
   "display_name": "Python 3 (ipykernel)",
   "language": "python",
   "name": "python3"
  },
  "language_info": {
   "codemirror_mode": {
    "name": "ipython",
    "version": 3
   },
   "file_extension": ".py",
   "mimetype": "text/x-python",
   "name": "python",
   "nbconvert_exporter": "python",
   "pygments_lexer": "ipython3",
   "version": "3.9.13"
  }
 },
 "nbformat": 4,
 "nbformat_minor": 5
}
