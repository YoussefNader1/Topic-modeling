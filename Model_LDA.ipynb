{
 "cells": [
  {
   "cell_type": "markdown",
   "id": "49bc2060",
   "metadata": {},
   "source": [
    "# Topic modeling \n"
   ]
  },
  {
   "cell_type": "code",
   "execution_count": 1,
   "id": "daf39634",
   "metadata": {},
   "outputs": [],
   "source": [
    "import pandas as pd"
   ]
  },
  {
   "cell_type": "markdown",
   "id": "189e9124",
   "metadata": {},
   "source": [
    "The data is too big so we wont take all of it we will get first 36000 row "
   ]
  },
  {
   "cell_type": "code",
   "execution_count": 2,
   "id": "a9b31538",
   "metadata": {},
   "outputs": [],
   "source": [
    "data = pd.read_csv('articles1.csv')[:36000]"
   ]
  },
  {
   "cell_type": "code",
   "execution_count": 3,
   "id": "8811182d",
   "metadata": {},
   "outputs": [
    {
     "data": {
      "text/html": [
       "<div>\n",
       "<style scoped>\n",
       "    .dataframe tbody tr th:only-of-type {\n",
       "        vertical-align: middle;\n",
       "    }\n",
       "\n",
       "    .dataframe tbody tr th {\n",
       "        vertical-align: top;\n",
       "    }\n",
       "\n",
       "    .dataframe thead th {\n",
       "        text-align: right;\n",
       "    }\n",
       "</style>\n",
       "<table border=\"1\" class=\"dataframe\">\n",
       "  <thead>\n",
       "    <tr style=\"text-align: right;\">\n",
       "      <th></th>\n",
       "      <th>Unnamed: 0</th>\n",
       "      <th>id</th>\n",
       "      <th>title</th>\n",
       "      <th>publication</th>\n",
       "      <th>author</th>\n",
       "      <th>date</th>\n",
       "      <th>year</th>\n",
       "      <th>month</th>\n",
       "      <th>url</th>\n",
       "      <th>content</th>\n",
       "    </tr>\n",
       "  </thead>\n",
       "  <tbody>\n",
       "    <tr>\n",
       "      <th>0</th>\n",
       "      <td>0</td>\n",
       "      <td>17283</td>\n",
       "      <td>House Republicans Fret About Winning Their Hea...</td>\n",
       "      <td>New York Times</td>\n",
       "      <td>Carl Hulse</td>\n",
       "      <td>2016-12-31</td>\n",
       "      <td>2016.0</td>\n",
       "      <td>12.0</td>\n",
       "      <td>NaN</td>\n",
       "      <td>WASHINGTON  —   Congressional Republicans have...</td>\n",
       "    </tr>\n",
       "    <tr>\n",
       "      <th>1</th>\n",
       "      <td>1</td>\n",
       "      <td>17284</td>\n",
       "      <td>Rift Between Officers and Residents as Killing...</td>\n",
       "      <td>New York Times</td>\n",
       "      <td>Benjamin Mueller and Al Baker</td>\n",
       "      <td>2017-06-19</td>\n",
       "      <td>2017.0</td>\n",
       "      <td>6.0</td>\n",
       "      <td>NaN</td>\n",
       "      <td>After the bullet shells get counted, the blood...</td>\n",
       "    </tr>\n",
       "    <tr>\n",
       "      <th>2</th>\n",
       "      <td>2</td>\n",
       "      <td>17285</td>\n",
       "      <td>Tyrus Wong, ‘Bambi’ Artist Thwarted by Racial ...</td>\n",
       "      <td>New York Times</td>\n",
       "      <td>Margalit Fox</td>\n",
       "      <td>2017-01-06</td>\n",
       "      <td>2017.0</td>\n",
       "      <td>1.0</td>\n",
       "      <td>NaN</td>\n",
       "      <td>When Walt Disney’s “Bambi” opened in 1942, cri...</td>\n",
       "    </tr>\n",
       "    <tr>\n",
       "      <th>3</th>\n",
       "      <td>3</td>\n",
       "      <td>17286</td>\n",
       "      <td>Among Deaths in 2016, a Heavy Toll in Pop Musi...</td>\n",
       "      <td>New York Times</td>\n",
       "      <td>William McDonald</td>\n",
       "      <td>2017-04-10</td>\n",
       "      <td>2017.0</td>\n",
       "      <td>4.0</td>\n",
       "      <td>NaN</td>\n",
       "      <td>Death may be the great equalizer, but it isn’t...</td>\n",
       "    </tr>\n",
       "    <tr>\n",
       "      <th>4</th>\n",
       "      <td>4</td>\n",
       "      <td>17287</td>\n",
       "      <td>Kim Jong-un Says North Korea Is Preparing to T...</td>\n",
       "      <td>New York Times</td>\n",
       "      <td>Choe Sang-Hun</td>\n",
       "      <td>2017-01-02</td>\n",
       "      <td>2017.0</td>\n",
       "      <td>1.0</td>\n",
       "      <td>NaN</td>\n",
       "      <td>SEOUL, South Korea  —   North Korea’s leader, ...</td>\n",
       "    </tr>\n",
       "    <tr>\n",
       "      <th>5</th>\n",
       "      <td>5</td>\n",
       "      <td>17288</td>\n",
       "      <td>Sick With a Cold, Queen Elizabeth Misses New Y...</td>\n",
       "      <td>New York Times</td>\n",
       "      <td>Sewell Chan</td>\n",
       "      <td>2017-01-02</td>\n",
       "      <td>2017.0</td>\n",
       "      <td>1.0</td>\n",
       "      <td>NaN</td>\n",
       "      <td>LONDON  —   Queen Elizabeth II, who has been b...</td>\n",
       "    </tr>\n",
       "    <tr>\n",
       "      <th>6</th>\n",
       "      <td>6</td>\n",
       "      <td>17289</td>\n",
       "      <td>Taiwan’s President Accuses China of Renewed In...</td>\n",
       "      <td>New York Times</td>\n",
       "      <td>Javier C. Hernández</td>\n",
       "      <td>2017-01-02</td>\n",
       "      <td>2017.0</td>\n",
       "      <td>1.0</td>\n",
       "      <td>NaN</td>\n",
       "      <td>BEIJING  —   President Tsai   of Taiwan sharpl...</td>\n",
       "    </tr>\n",
       "    <tr>\n",
       "      <th>7</th>\n",
       "      <td>7</td>\n",
       "      <td>17290</td>\n",
       "      <td>After ‘The Biggest Loser,’ Their Bodies Fought...</td>\n",
       "      <td>New York Times</td>\n",
       "      <td>Gina Kolata</td>\n",
       "      <td>2017-02-08</td>\n",
       "      <td>2017.0</td>\n",
       "      <td>2.0</td>\n",
       "      <td>NaN</td>\n",
       "      <td>Danny Cahill stood, slightly dazed, in a blizz...</td>\n",
       "    </tr>\n",
       "    <tr>\n",
       "      <th>8</th>\n",
       "      <td>8</td>\n",
       "      <td>17291</td>\n",
       "      <td>First, a Mixtape. Then a Romance. - The New Yo...</td>\n",
       "      <td>New York Times</td>\n",
       "      <td>Katherine Rosman</td>\n",
       "      <td>2016-12-31</td>\n",
       "      <td>2016.0</td>\n",
       "      <td>12.0</td>\n",
       "      <td>NaN</td>\n",
       "      <td>Just how   is Hillary Kerr, the    founder of ...</td>\n",
       "    </tr>\n",
       "    <tr>\n",
       "      <th>9</th>\n",
       "      <td>9</td>\n",
       "      <td>17292</td>\n",
       "      <td>Calling on Angels While Enduring the Trials of...</td>\n",
       "      <td>New York Times</td>\n",
       "      <td>Andy Newman</td>\n",
       "      <td>2016-12-31</td>\n",
       "      <td>2016.0</td>\n",
       "      <td>12.0</td>\n",
       "      <td>NaN</td>\n",
       "      <td>Angels are everywhere in the Muñiz family’s ap...</td>\n",
       "    </tr>\n",
       "  </tbody>\n",
       "</table>\n",
       "</div>"
      ],
      "text/plain": [
       "   Unnamed: 0     id                                              title   \n",
       "0           0  17283  House Republicans Fret About Winning Their Hea...  \\\n",
       "1           1  17284  Rift Between Officers and Residents as Killing...   \n",
       "2           2  17285  Tyrus Wong, ‘Bambi’ Artist Thwarted by Racial ...   \n",
       "3           3  17286  Among Deaths in 2016, a Heavy Toll in Pop Musi...   \n",
       "4           4  17287  Kim Jong-un Says North Korea Is Preparing to T...   \n",
       "5           5  17288  Sick With a Cold, Queen Elizabeth Misses New Y...   \n",
       "6           6  17289  Taiwan’s President Accuses China of Renewed In...   \n",
       "7           7  17290  After ‘The Biggest Loser,’ Their Bodies Fought...   \n",
       "8           8  17291  First, a Mixtape. Then a Romance. - The New Yo...   \n",
       "9           9  17292  Calling on Angels While Enduring the Trials of...   \n",
       "\n",
       "      publication                         author        date    year  month   \n",
       "0  New York Times                     Carl Hulse  2016-12-31  2016.0   12.0  \\\n",
       "1  New York Times  Benjamin Mueller and Al Baker  2017-06-19  2017.0    6.0   \n",
       "2  New York Times                   Margalit Fox  2017-01-06  2017.0    1.0   \n",
       "3  New York Times               William McDonald  2017-04-10  2017.0    4.0   \n",
       "4  New York Times                  Choe Sang-Hun  2017-01-02  2017.0    1.0   \n",
       "5  New York Times                    Sewell Chan  2017-01-02  2017.0    1.0   \n",
       "6  New York Times            Javier C. Hernández  2017-01-02  2017.0    1.0   \n",
       "7  New York Times                    Gina Kolata  2017-02-08  2017.0    2.0   \n",
       "8  New York Times               Katherine Rosman  2016-12-31  2016.0   12.0   \n",
       "9  New York Times                    Andy Newman  2016-12-31  2016.0   12.0   \n",
       "\n",
       "   url                                            content  \n",
       "0  NaN  WASHINGTON  —   Congressional Republicans have...  \n",
       "1  NaN  After the bullet shells get counted, the blood...  \n",
       "2  NaN  When Walt Disney’s “Bambi” opened in 1942, cri...  \n",
       "3  NaN  Death may be the great equalizer, but it isn’t...  \n",
       "4  NaN  SEOUL, South Korea  —   North Korea’s leader, ...  \n",
       "5  NaN  LONDON  —   Queen Elizabeth II, who has been b...  \n",
       "6  NaN  BEIJING  —   President Tsai   of Taiwan sharpl...  \n",
       "7  NaN  Danny Cahill stood, slightly dazed, in a blizz...  \n",
       "8  NaN  Just how   is Hillary Kerr, the    founder of ...  \n",
       "9  NaN  Angels are everywhere in the Muñiz family’s ap...  "
      ]
     },
     "execution_count": 3,
     "metadata": {},
     "output_type": "execute_result"
    }
   ],
   "source": [
    "data.head(10)"
   ]
  },
  {
   "cell_type": "code",
   "execution_count": 4,
   "id": "736c979c",
   "metadata": {},
   "outputs": [
    {
     "data": {
      "text/plain": [
       "36000"
      ]
     },
     "execution_count": 4,
     "metadata": {},
     "output_type": "execute_result"
    }
   ],
   "source": [
    "len(data)"
   ]
  },
  {
   "cell_type": "markdown",
   "id": "82fd12f7",
   "metadata": {},
   "source": [
    "Remove nulls and duplicates "
   ]
  },
  {
   "cell_type": "code",
   "execution_count": 5,
   "id": "a8a9916a",
   "metadata": {},
   "outputs": [],
   "source": [
    "content = data['content'].drop_duplicates().dropna()[:36000]"
   ]
  },
  {
   "cell_type": "code",
   "execution_count": 6,
   "id": "cec8e3c6",
   "metadata": {},
   "outputs": [],
   "source": [
    "d = data[\"content\"].drop_duplicates().dropna()[:36000]"
   ]
  },
  {
   "cell_type": "code",
   "execution_count": 7,
   "id": "8c4773ee",
   "metadata": {},
   "outputs": [
    {
     "data": {
      "text/plain": [
       "35955"
      ]
     },
     "execution_count": 7,
     "metadata": {},
     "output_type": "execute_result"
    }
   ],
   "source": [
    "len(content)"
   ]
  },
  {
   "cell_type": "code",
   "execution_count": 8,
   "id": "63010cfe",
   "metadata": {},
   "outputs": [
    {
     "data": {
      "text/plain": [
       "35955"
      ]
     },
     "execution_count": 8,
     "metadata": {},
     "output_type": "execute_result"
    }
   ],
   "source": [
    "len(d)"
   ]
  },
  {
   "cell_type": "code",
   "execution_count": 8,
   "id": "6df5ad5e",
   "metadata": {},
   "outputs": [
    {
     "data": {
      "text/plain": [
       "pandas.core.series.Series"
      ]
     },
     "execution_count": 8,
     "metadata": {},
     "output_type": "execute_result"
    }
   ],
   "source": [
    "d.to_frame() \n",
    "type(d)"
   ]
  },
  {
   "cell_type": "code",
   "execution_count": 9,
   "id": "1684e9f6",
   "metadata": {
    "scrolled": true
   },
   "outputs": [
    {
     "data": {
      "text/plain": [
       "0    WASHINGTON  —   Congressional Republicans have...\n",
       "1    After the bullet shells get counted, the blood...\n",
       "2    When Walt Disney’s “Bambi” opened in 1942, cri...\n",
       "3    Death may be the great equalizer, but it isn’t...\n",
       "4    SEOUL, South Korea  —   North Korea’s leader, ...\n",
       "Name: content, dtype: object"
      ]
     },
     "execution_count": 9,
     "metadata": {},
     "output_type": "execute_result"
    }
   ],
   "source": [
    "content.head()"
   ]
  },
  {
   "cell_type": "code",
   "execution_count": 10,
   "id": "d0677b71",
   "metadata": {},
   "outputs": [
    {
     "data": {
      "text/plain": [
       "pandas.core.series.Series"
      ]
     },
     "execution_count": 10,
     "metadata": {},
     "output_type": "execute_result"
    }
   ],
   "source": [
    "type(content)"
   ]
  },
  {
   "cell_type": "markdown",
   "id": "f80c5541",
   "metadata": {},
   "source": [
    "# Visualize content "
   ]
  },
  {
   "cell_type": "markdown",
   "id": "4111937e",
   "metadata": {},
   "source": [
    "This cell visualize the content[0] 'first row' before it preprocessed"
   ]
  },
  {
   "cell_type": "code",
   "execution_count": 11,
   "id": "dd71c815",
   "metadata": {
    "scrolled": true
   },
   "outputs": [
    {
     "data": {
      "image/png": "[encoded data removed]",
      "text/plain": [
       "<PIL.Image.Image image mode=RGB size=400x200>"
      ]
     },
     "execution_count": 11,
     "metadata": {},
     "output_type": "execute_result"
    }
   ],
   "source": [
    "# Import the wordcloud library\n",
    "from wordcloud import WordCloud\n",
    "# Create a WordCloud object\n",
    "wordcloud = WordCloud(background_color=\"white\", max_words=5000, contour_width=3, contour_color='steelblue')\n",
    "# Generate a word cloud\n",
    "wordcloud.generate(content[0])\n",
    "# Visualize the word cloud\n",
    "wordcloud.to_image()"
   ]
  },
  {
   "cell_type": "markdown",
   "id": "e9ea38b3",
   "metadata": {},
   "source": [
    "## Data preprocessing"
   ]
  },
  {
   "cell_type": "code",
   "execution_count": 12,
   "id": "ca3f07a1",
   "metadata": {},
   "outputs": [],
   "source": [
    "# from nltk.corpus import stopwords  # Text data\n",
    "# from nltk.tokenize import sent_tokenize, word_tokenize\n",
    "# stop_words = set(stopwords.words(\"english\"))\n",
    "# from nltk.stem import WordNetLemmatizer\n",
    "# lemmatizer = WordNetLemmatizer()\n",
    "# import string\n",
    "\n",
    "# def Preprocessing(data):\n",
    "#     x = 0\n",
    "#     content_list = []\n",
    "#     for lines in data:        \n",
    "# #         lines = lines.translate(str.maketrans('', '', string.punctuation))\n",
    "#         words = word_tokenize(lines) # word tokenize\n",
    "#         filtered_list = [word for word in words if word.casefold() not in stop_words]  # remove stopwords\n",
    "\n",
    "#         lemmatized_words = [lemmatizer.lemmatize(word) for word in filtered_list]  # lemma the words\n",
    "\n",
    "#         lines = ' '.join(lemmatized_words)\n",
    "#         content_list.append(lines)\n",
    "# #         x += 1\n",
    "# #         if x > 1:\n",
    "# #             break\n",
    "#     content_df = pd.DataFrame(content_list, columns=[\"content\"])\n",
    "\n",
    "#     return content_df"
   ]
  },
  {
   "cell_type": "code",
   "execution_count": 13,
   "id": "906a5e37",
   "metadata": {
    "scrolled": false
   },
   "outputs": [],
   "source": [
    "# content_df = Preprocessing(content)\n",
    "# content_df.head()\n",
    "# # type(content_df)\n",
    "# # ss = content_df.squeeze()\n",
    "# # ss\n"
   ]
  },
  {
   "cell_type": "markdown",
   "id": "b675359f",
   "metadata": {},
   "source": [
    "\"max_df\" max probability of the apperance of one word\n",
    ", \"min_df\" min probability of the apperance of one word\n",
    ", \"stop_words\" remove the unnecessary word that could decrease the accuracy"
   ]
  },
  {
   "cell_type": "code",
   "execution_count": 10,
   "id": "02ed41cf",
   "metadata": {},
   "outputs": [],
   "source": [
    "from sklearn.feature_extraction.text import CountVectorizer\n",
    "cv = CountVectorizer(max_df=0.95, min_df=2, stop_words='english')\n",
    "data_cv = cv.fit_transform(content)"
   ]
  },
  {
   "cell_type": "markdown",
   "id": "b438edb1",
   "metadata": {},
   "source": [
    "Note in old version of sklearn you can use \"cv.get_feature_names\" instade of \"cv.get_feature_names_out\""
   ]
  },
  {
   "cell_type": "code",
   "execution_count": 11,
   "id": "c7323d49",
   "metadata": {},
   "outputs": [
    {
     "data": {
      "text/plain": [
       "81200"
      ]
     },
     "execution_count": 11,
     "metadata": {},
     "output_type": "execute_result"
    }
   ],
   "source": [
    "len(cv.get_feature_names_out()) # unique words"
   ]
  },
  {
   "cell_type": "code",
   "execution_count": 16,
   "id": "3e508975",
   "metadata": {
    "scrolled": true
   },
   "outputs": [
    {
     "ename": "MemoryError",
     "evalue": "Unable to allocate 21.8 GiB for an array with shape (35955, 81200) and data type int64",
     "output_type": "error",
     "traceback": [
      "\u001b[1;31m---------------------------------------------------------------------------\u001b[0m",
      "\u001b[1;31mMemoryError\u001b[0m                               Traceback (most recent call last)",
      "\u001b[1;32m~\\AppData\\Local\\Temp\\ipykernel_11704\\2324835256.py\u001b[0m in \u001b[0;36m<module>\u001b[1;34m\u001b[0m\n\u001b[1;32m----> 1\u001b[1;33m \u001b[0mdata_cv\u001b[0m\u001b[1;33m.\u001b[0m\u001b[0mtoarray\u001b[0m\u001b[1;33m(\u001b[0m\u001b[1;33m)\u001b[0m\u001b[1;33m\u001b[0m\u001b[1;33m\u001b[0m\u001b[0m\n\u001b[0m",
      "\u001b[1;32m~\\anaconda3\\lib\\site-packages\\scipy\\sparse\\_compressed.py\u001b[0m in \u001b[0;36mtoarray\u001b[1;34m(self, order, out)\u001b[0m\n\u001b[0;32m   1049\u001b[0m         \u001b[1;32mif\u001b[0m \u001b[0mout\u001b[0m \u001b[1;32mis\u001b[0m \u001b[1;32mNone\u001b[0m \u001b[1;32mand\u001b[0m \u001b[0morder\u001b[0m \u001b[1;32mis\u001b[0m \u001b[1;32mNone\u001b[0m\u001b[1;33m:\u001b[0m\u001b[1;33m\u001b[0m\u001b[1;33m\u001b[0m\u001b[0m\n\u001b[0;32m   1050\u001b[0m             \u001b[0morder\u001b[0m \u001b[1;33m=\u001b[0m \u001b[0mself\u001b[0m\u001b[1;33m.\u001b[0m\u001b[0m_swap\u001b[0m\u001b[1;33m(\u001b[0m\u001b[1;34m'cf'\u001b[0m\u001b[1;33m)\u001b[0m\u001b[1;33m[\u001b[0m\u001b[1;36m0\u001b[0m\u001b[1;33m]\u001b[0m\u001b[1;33m\u001b[0m\u001b[1;33m\u001b[0m\u001b[0m\n\u001b[1;32m-> 1051\u001b[1;33m         \u001b[0mout\u001b[0m \u001b[1;33m=\u001b[0m \u001b[0mself\u001b[0m\u001b[1;33m.\u001b[0m\u001b[0m_process_toarray_args\u001b[0m\u001b[1;33m(\u001b[0m\u001b[0morder\u001b[0m\u001b[1;33m,\u001b[0m \u001b[0mout\u001b[0m\u001b[1;33m)\u001b[0m\u001b[1;33m\u001b[0m\u001b[1;33m\u001b[0m\u001b[0m\n\u001b[0m\u001b[0;32m   1052\u001b[0m         \u001b[1;32mif\u001b[0m \u001b[1;32mnot\u001b[0m \u001b[1;33m(\u001b[0m\u001b[0mout\u001b[0m\u001b[1;33m.\u001b[0m\u001b[0mflags\u001b[0m\u001b[1;33m.\u001b[0m\u001b[0mc_contiguous\u001b[0m \u001b[1;32mor\u001b[0m \u001b[0mout\u001b[0m\u001b[1;33m.\u001b[0m\u001b[0mflags\u001b[0m\u001b[1;33m.\u001b[0m\u001b[0mf_contiguous\u001b[0m\u001b[1;33m)\u001b[0m\u001b[1;33m:\u001b[0m\u001b[1;33m\u001b[0m\u001b[1;33m\u001b[0m\u001b[0m\n\u001b[0;32m   1053\u001b[0m             \u001b[1;32mraise\u001b[0m \u001b[0mValueError\u001b[0m\u001b[1;33m(\u001b[0m\u001b[1;34m'Output array must be C or F contiguous'\u001b[0m\u001b[1;33m)\u001b[0m\u001b[1;33m\u001b[0m\u001b[1;33m\u001b[0m\u001b[0m\n",
      "\u001b[1;32m~\\anaconda3\\lib\\site-packages\\scipy\\sparse\\_base.py\u001b[0m in \u001b[0;36m_process_toarray_args\u001b[1;34m(self, order, out)\u001b[0m\n\u001b[0;32m   1296\u001b[0m             \u001b[1;32mreturn\u001b[0m \u001b[0mout\u001b[0m\u001b[1;33m\u001b[0m\u001b[1;33m\u001b[0m\u001b[0m\n\u001b[0;32m   1297\u001b[0m         \u001b[1;32melse\u001b[0m\u001b[1;33m:\u001b[0m\u001b[1;33m\u001b[0m\u001b[1;33m\u001b[0m\u001b[0m\n\u001b[1;32m-> 1298\u001b[1;33m             \u001b[1;32mreturn\u001b[0m \u001b[0mnp\u001b[0m\u001b[1;33m.\u001b[0m\u001b[0mzeros\u001b[0m\u001b[1;33m(\u001b[0m\u001b[0mself\u001b[0m\u001b[1;33m.\u001b[0m\u001b[0mshape\u001b[0m\u001b[1;33m,\u001b[0m \u001b[0mdtype\u001b[0m\u001b[1;33m=\u001b[0m\u001b[0mself\u001b[0m\u001b[1;33m.\u001b[0m\u001b[0mdtype\u001b[0m\u001b[1;33m,\u001b[0m \u001b[0morder\u001b[0m\u001b[1;33m=\u001b[0m\u001b[0morder\u001b[0m\u001b[1;33m)\u001b[0m\u001b[1;33m\u001b[0m\u001b[1;33m\u001b[0m\u001b[0m\n\u001b[0m\u001b[0;32m   1299\u001b[0m \u001b[1;33m\u001b[0m\u001b[0m\n\u001b[0;32m   1300\u001b[0m \u001b[1;33m\u001b[0m\u001b[0m\n",
      "\u001b[1;31mMemoryError\u001b[0m: Unable to allocate 21.8 GiB for an array with shape (35955, 81200) and data type int64"
     ]
    }
   ],
   "source": [
    "data_cv.toarray()"
   ]
  },
  {
   "cell_type": "code",
   "execution_count": 12,
   "id": "b43137c0",
   "metadata": {},
   "outputs": [
    {
     "name": "stdout",
     "output_type": "stream",
     "text": [
      "034\n",
      "israelites\n",
      "reiterating\n",
      "lindasuhler\n",
      "discriminate\n",
      "itsa_talia\n",
      "zawistowki\n",
      "rustics\n",
      "pluralist\n",
      "pais\n"
     ]
    }
   ],
   "source": [
    "import random\n",
    "for i in range(10):\n",
    "    random_word_id = random.randint(0,81199)\n",
    "    print(cv.get_feature_names_out()[random_word_id])\n"
   ]
  },
  {
   "cell_type": "code",
   "execution_count": 13,
   "id": "f9f6e2ea",
   "metadata": {},
   "outputs": [
    {
     "data": {
      "text/plain": [
       "LatentDirichletAllocation(n_components=7, random_state=42)"
      ]
     },
     "execution_count": 13,
     "metadata": {},
     "output_type": "execute_result"
    }
   ],
   "source": [
    "from sklearn.decomposition import LatentDirichletAllocation\n",
    "LDA = LatentDirichletAllocation(n_components=7,random_state=42)\n",
    "LDA.fit(data_cv)"
   ]
  },
  {
   "cell_type": "code",
   "execution_count": 14,
   "id": "0e9f5efa",
   "metadata": {},
   "outputs": [
    {
     "data": {
      "text/plain": [
       "7"
      ]
     },
     "execution_count": 14,
     "metadata": {},
     "output_type": "execute_result"
    }
   ],
   "source": [
    "len(LDA.components_)"
   ]
  },
  {
   "cell_type": "code",
   "execution_count": 15,
   "id": "5f773d48",
   "metadata": {},
   "outputs": [
    {
     "data": {
      "text/plain": [
       "array([[1.43213846e-01, 1.15113086e+03, 1.42858837e-01, ...,\n",
       "        1.42857146e-01, 1.42857151e-01, 1.42857158e-01],\n",
       "       [3.19078305e+01, 2.87485953e+03, 1.42870723e-01, ...,\n",
       "        1.42895412e-01, 1.43272710e-01, 7.07540541e-01],\n",
       "       [9.03610947e+00, 1.52381198e+03, 1.42893818e-01, ...,\n",
       "        2.14244396e+00, 1.45732681e-01, 1.42857162e-01],\n",
       "       ...,\n",
       "       [4.36574182e+01, 9.12110075e+02, 1.42933039e-01, ...,\n",
       "        1.43021510e-01, 4.13938325e+00, 9.49251108e-01],\n",
       "       [1.28091969e+03, 8.62085291e+02, 1.42857145e-01, ...,\n",
       "        1.42948632e-01, 1.42857148e-01, 1.42887097e-01],\n",
       "       [2.80263127e+02, 8.23563552e+02, 1.55932736e-01, ...,\n",
       "        1.42976191e-01, 1.43039914e-01, 1.42857164e-01]])"
      ]
     },
     "execution_count": 15,
     "metadata": {},
     "output_type": "execute_result"
    }
   ],
   "source": [
    "LDA.components_"
   ]
  },
  {
   "cell_type": "code",
   "execution_count": 16,
   "id": "6452ef39",
   "metadata": {},
   "outputs": [
    {
     "data": {
      "text/plain": [
       "(7, 81200)"
      ]
     },
     "execution_count": 16,
     "metadata": {},
     "output_type": "execute_result"
    }
   ],
   "source": [
    "len(LDA.components_) , len(LDA.components_[0])"
   ]
  },
  {
   "cell_type": "code",
   "execution_count": 17,
   "id": "3e6819e3",
   "metadata": {},
   "outputs": [
    {
     "data": {
      "text/plain": [
       "array([48965, 71073, 55533, ..., 74203, 62789, 48242], dtype=int64)"
      ]
     },
     "execution_count": 17,
     "metadata": {},
     "output_type": "execute_result"
    }
   ],
   "source": [
    "single_topic = LDA.components_[0]\n",
    "single_topic.argsort()"
   ]
  },
  {
   "cell_type": "code",
   "execution_count": 18,
   "id": "15ceeefc",
   "metadata": {},
   "outputs": [
    {
     "data": {
      "text/plain": [
       "array([26771, 49682, 48260, 68724, 41573, 56500, 17496, 74203, 62789,\n",
       "       48242], dtype=int64)"
      ]
     },
     "execution_count": 18,
     "metadata": {},
     "output_type": "execute_result"
    }
   ],
   "source": [
    "single_topic.argsort()[-10:]"
   ]
  },
  {
   "cell_type": "code",
   "execution_count": 19,
   "id": "d38ce146",
   "metadata": {},
   "outputs": [
    {
     "name": "stdout",
     "output_type": "stream",
     "text": [
      "federal\n",
      "new\n",
      "ms\n",
      "state\n",
      "law\n",
      "president\n",
      "court\n",
      "trump\n",
      "said\n",
      "mr\n"
     ]
    }
   ],
   "source": [
    "for index in single_topic.argsort()[-10:]:\n",
    "    print(cv.get_feature_names_out()[index])"
   ]
  },
  {
   "cell_type": "code",
   "execution_count": null,
   "id": "7170eb32",
   "metadata": {},
   "outputs": [],
   "source": [
    "# def vis(data):\n",
    "    \n",
    "#     print(type(data))\n",
    "#     wordcloud = WordCloud(background_color=\"white\", max_words=30, contour_width=3, contour_color='steelblue')\n",
    "#     wordcloud.generate(data)\n",
    "#     wordcloud.to_image()"
   ]
  },
  {
   "cell_type": "code",
   "execution_count": null,
   "id": "ee025f41",
   "metadata": {
    "scrolled": false
   },
   "outputs": [],
   "source": [
    "# data2 = []\n",
    "# for index,topic in enumerate(LDA.components_):\n",
    "#     data =[]\n",
    "\n",
    "#     print(f'THE TOP 15 WORDS FOR TOPIC #{index}')\n",
    "#     for i in topic.argsort()[-15:]:\n",
    "#         data.append(cv.get_feature_names()[i])\n",
    "#     words = ' '.join(data)\n",
    "#     data2.append(words)\n",
    "# print(data2)"
   ]
  },
  {
   "cell_type": "code",
   "execution_count": null,
   "id": "d1ab3d79",
   "metadata": {},
   "outputs": [],
   "source": [
    "# wordcloud = WordCloud(background_color=\"white\", max_words=30, contour_width=3, contour_color='steelblue')\n",
    "# wordcloud.generate(data2[0])\n",
    "# wordcloud.to_image()"
   ]
  },
  {
   "cell_type": "code",
   "execution_count": 38,
   "id": "b19c146c",
   "metadata": {},
   "outputs": [
    {
     "name": "stdout",
     "output_type": "stream",
     "text": [
      "THE TOP 15 WORDS FOR TOPIC #0\n",
      "['government', 'house', 'department', 'party', 'justice', 'federal', 'new', 'ms', 'state', 'law', 'president', 'court', 'trump', 'said', 'mr']\n",
      "\n",
      "\n",
      "THE TOP 15 WORDS FOR TOPIC #1\n",
      "['day', 'told', 'family', 'man', 'years', 'just', 'time', 'city', 'ms', 'like', 'new', 'people', 'mr', 'police', 'said']\n",
      "\n",
      "\n",
      "THE TOP 15 WORDS FOR TOPIC #2\n",
      "['students', 'police', 'border', 'group', 'social', 'reported', 'follow', '2016', 'media', 'people', 'texas', 'facebook', 'news', 'breitbart', 'twitter']\n",
      "\n",
      "\n",
      "THE TOP 15 WORDS FOR TOPIC #3\n",
      "['united', 'trump', 'government', 'company', 'years', '000', 'like', 'year', 'american', 'million', 'states', 'people', 'new', 'percent', 'said']\n",
      "\n",
      "\n",
      "THE TOP 15 WORDS FOR TOPIC #4\n",
      "['administration', 'officials', 'russian', 'government', 'islamic', 'obama', 'military', 'states', 'russia', 'state', 'security', 'united', 'president', 'trump', 'said']\n",
      "\n",
      "\n",
      "THE TOP 15 WORDS FOR TOPIC #5\n",
      "['just', 'think', 'going', '2016', 'republican', 'says', 'news', 'hillary', 'campaign', 'president', 'people', 'donald', 'said', 'clinton', 'trump']\n",
      "\n",
      "\n",
      "THE TOP 15 WORDS FOR TOPIC #6\n",
      "['children', 'year', 'did', 'years', 'like', 'told', 'health', 'people', 'dr', 'time', 'just', 'team', 'game', 'women', 'said']\n",
      "\n",
      "\n"
     ]
    }
   ],
   "source": [
    "for index,topic in enumerate(LDA.components_):\n",
    "    print(f'THE TOP 15 WORDS FOR TOPIC #{index}')\n",
    "    print([cv.get_feature_names_out()[i] for i in topic.argsort()[-15:]])\n",
    "    print('\\n')"
   ]
  },
  {
   "cell_type": "code",
   "execution_count": 21,
   "id": "aa0e89d0",
   "metadata": {},
   "outputs": [],
   "source": [
    "topic_results = LDA.transform(data_cv)"
   ]
  },
  {
   "cell_type": "code",
   "execution_count": 22,
   "id": "24953e85",
   "metadata": {},
   "outputs": [
    {
     "data": {
      "text/plain": [
       "(35955, 7)"
      ]
     },
     "execution_count": 22,
     "metadata": {},
     "output_type": "execute_result"
    }
   ],
   "source": [
    "topic_results.shape"
   ]
  },
  {
   "cell_type": "code",
   "execution_count": 23,
   "id": "eb6dc7ff",
   "metadata": {},
   "outputs": [
    {
     "data": {
      "text/plain": [
       "array([0.64, 0.  , 0.  , 0.36, 0.  , 0.  , 0.  ])"
      ]
     },
     "execution_count": 23,
     "metadata": {},
     "output_type": "execute_result"
    }
   ],
   "source": [
    "topic_results[0].round(2)"
   ]
  },
  {
   "cell_type": "code",
   "execution_count": 24,
   "id": "17dcba60",
   "metadata": {},
   "outputs": [
    {
     "data": {
      "text/plain": [
       "array([0, 1, 1, ..., 6, 0, 6], dtype=int64)"
      ]
     },
     "execution_count": 24,
     "metadata": {},
     "output_type": "execute_result"
    }
   ],
   "source": [
    "topic_results.argmax(axis=1)"
   ]
  },
  {
   "cell_type": "code",
   "execution_count": 25,
   "id": "7faf6129",
   "metadata": {},
   "outputs": [
    {
     "data": {
      "text/plain": [
       "array([0, 1, 1, ..., 6, 0, 6], dtype=int64)"
      ]
     },
     "execution_count": 25,
     "metadata": {},
     "output_type": "execute_result"
    }
   ],
   "source": [
    "Topics = topic_results.argmax(axis=1)\n",
    "Topics\n",
    "# d.head(10)\n",
    "# d.to_frame() "
   ]
  },
  {
   "cell_type": "code",
   "execution_count": 28,
   "id": "82363ee7",
   "metadata": {},
   "outputs": [],
   "source": [
    "df = pd.DataFrame({'Content': d, 'Topic #': Topics})"
   ]
  },
  {
   "cell_type": "code",
   "execution_count": 29,
   "id": "bd127bbe",
   "metadata": {},
   "outputs": [
    {
     "data": {
      "text/html": [
       "<div>\n",
       "<style scoped>\n",
       "    .dataframe tbody tr th:only-of-type {\n",
       "        vertical-align: middle;\n",
       "    }\n",
       "\n",
       "    .dataframe tbody tr th {\n",
       "        vertical-align: top;\n",
       "    }\n",
       "\n",
       "    .dataframe thead th {\n",
       "        text-align: right;\n",
       "    }\n",
       "</style>\n",
       "<table border=\"1\" class=\"dataframe\">\n",
       "  <thead>\n",
       "    <tr style=\"text-align: right;\">\n",
       "      <th></th>\n",
       "      <th>Content</th>\n",
       "      <th>Topic #</th>\n",
       "    </tr>\n",
       "  </thead>\n",
       "  <tbody>\n",
       "    <tr>\n",
       "      <th>0</th>\n",
       "      <td>WASHINGTON  —   Congressional Republicans have...</td>\n",
       "      <td>0</td>\n",
       "    </tr>\n",
       "    <tr>\n",
       "      <th>1</th>\n",
       "      <td>After the bullet shells get counted, the blood...</td>\n",
       "      <td>1</td>\n",
       "    </tr>\n",
       "    <tr>\n",
       "      <th>2</th>\n",
       "      <td>When Walt Disney’s “Bambi” opened in 1942, cri...</td>\n",
       "      <td>1</td>\n",
       "    </tr>\n",
       "    <tr>\n",
       "      <th>3</th>\n",
       "      <td>Death may be the great equalizer, but it isn’t...</td>\n",
       "      <td>1</td>\n",
       "    </tr>\n",
       "    <tr>\n",
       "      <th>4</th>\n",
       "      <td>SEOUL, South Korea  —   North Korea’s leader, ...</td>\n",
       "      <td>4</td>\n",
       "    </tr>\n",
       "    <tr>\n",
       "      <th>...</th>\n",
       "      <td>...</td>\n",
       "      <td>...</td>\n",
       "    </tr>\n",
       "    <tr>\n",
       "      <th>35995</th>\n",
       "      <td>(CNN) Donald Trump and his advisers are defen...</td>\n",
       "      <td>5</td>\n",
       "    </tr>\n",
       "    <tr>\n",
       "      <th>35996</th>\n",
       "      <td>(CNN) Novak Djokovic crashed out of Wimbledon...</td>\n",
       "      <td>6</td>\n",
       "    </tr>\n",
       "    <tr>\n",
       "      <th>35997</th>\n",
       "      <td>(CNN) Mark Cavendish claimed the yellow jerse...</td>\n",
       "      <td>6</td>\n",
       "    </tr>\n",
       "    <tr>\n",
       "      <th>35998</th>\n",
       "      <td>(CNN) North Carolina’s controversial bathroom...</td>\n",
       "      <td>0</td>\n",
       "    </tr>\n",
       "    <tr>\n",
       "      <th>35999</th>\n",
       "      <td>London (CNN) It’s a long time since the names ...</td>\n",
       "      <td>6</td>\n",
       "    </tr>\n",
       "  </tbody>\n",
       "</table>\n",
       "<p>35955 rows × 2 columns</p>\n",
       "</div>"
      ],
      "text/plain": [
       "                                                 Content  Topic #\n",
       "0      WASHINGTON  —   Congressional Republicans have...        0\n",
       "1      After the bullet shells get counted, the blood...        1\n",
       "2      When Walt Disney’s “Bambi” opened in 1942, cri...        1\n",
       "3      Death may be the great equalizer, but it isn’t...        1\n",
       "4      SEOUL, South Korea  —   North Korea’s leader, ...        4\n",
       "...                                                  ...      ...\n",
       "35995   (CNN) Donald Trump and his advisers are defen...        5\n",
       "35996   (CNN) Novak Djokovic crashed out of Wimbledon...        6\n",
       "35997   (CNN) Mark Cavendish claimed the yellow jerse...        6\n",
       "35998   (CNN) North Carolina’s controversial bathroom...        0\n",
       "35999  London (CNN) It’s a long time since the names ...        6\n",
       "\n",
       "[35955 rows x 2 columns]"
      ]
     },
     "execution_count": 29,
     "metadata": {},
     "output_type": "execute_result"
    }
   ],
   "source": [
    "df"
   ]
  },
  {
   "cell_type": "code",
   "execution_count": 37,
   "id": "4ca61648",
   "metadata": {},
   "outputs": [
    {
     "data": {
      "image/png": "[encoded data removed]",
      "text/plain": [
       "<Figure size 640x480 with 1 Axes>"
      ]
     },
     "metadata": {},
     "output_type": "display_data"
    }
   ],
   "source": [
    "import pandas as pd\n",
    "import matplotlib.pyplot as plt\n",
    "\n",
    "# group the data by topic and count the number of occurrences\n",
    "topic_counts = df.groupby('Topic #').count()['Content']\n",
    "\n",
    "# create a bar chart of the topic distribution\n",
    "plt.bar(topic_counts.index, topic_counts.values)\n",
    "plt.xlabel('Topic')\n",
    "plt.ylabel('Number of Contents')\n",
    "plt.title('Topic Distribution')\n",
    "plt.show()"
   ]
  },
  {
   "cell_type": "code",
   "execution_count": null,
   "id": "5cedc54e",
   "metadata": {},
   "outputs": [],
   "source": []
  }
 ],
 "metadata": {
  "kernelspec": {
   "display_name": "Python 3 (ipykernel)",
   "language": "python",
   "name": "python3"
  },
  "language_info": {
   "codemirror_mode": {
    "name": "ipython",
    "version": 3
   },
   "file_extension": ".py",
   "mimetype": "text/x-python",
   "name": "python",
   "nbconvert_exporter": "python",
   "pygments_lexer": "ipython3",
   "version": "3.9.13"
  }
 },
 "nbformat": 4,
 "nbformat_minor": 5
}
